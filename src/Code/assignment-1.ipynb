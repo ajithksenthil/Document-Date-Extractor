{
 "cells": [
  {
   "cell_type": "code",
   "execution_count": 1,
   "metadata": {},
   "outputs": [
    {
     "name": "stdout",
     "output_type": "stream",
     "text": [
      "Hurricane Michael May Hit Florida as Category 3 Storm\n",
      "\n",
      "(an adaptation of the New York Times article with the same title)\n",
      "\n",
      "ATLANTA — Hurricane Michael strengthened and sharpened its track toward the Florida Panhandle on Monday, imperiling a vast stretch of the state that must cope with the threat of a suddenly menacing storm.\n",
      "\n",
      "The risks posed by the hurricane extended hundreds of miles inland, and it was poised to bombard parts of the South and Mid-Atlantic as a tropical storm, endangering regions still recovering from Hurricane Florence’s deluge last month.\n",
      "\n",
      "The National Hurricane Center said Michael could make landfall again on Wednesday, Oct. 11th as a Category 3 hurricane, with sustained winds of at least 111 miles per hour. If the forecast holds, Michael would be the strongest hurricane to make landfall in the mainland United States so far.\n",
      "\n",
      "“Michael can still change direction and impact any part of the state,” said Mr. Scott, who warned that some areas could receive up to a foot of rain, and that destructive winds were likely to hit both along the coast, in places like Panama City, and inland, including Tallahassee, the capital. Local officials ordered evacuations from some communities ahead of the storm, which is expected to bring tropical storm-force winds to the state beginning as soon as Tuesday.\n",
      "\n",
      "Unlike Hurricane Florence, which slowly approached the Carolinas from the Atlantic Ocean and then meandered for days, Hurricane Michael offered little time for preparation. When Mr. Scott spoke, on Monday 8a.m., the system was a tropical storm, though one forecast to strengthen. A bit later, the hurricane center upgraded it to a Category 1 hurricane and anticipated a Category 3 strike on Wednesday.\n",
      "\n",
      "On Monday afternoon, the hurricane center said the storm was about 520 miles south of Apalachicola, Fla., with maximum sustained winds of 80 miles per hour, just above the threshold to be classified as a hurricane. The storm was moving north at nine miles per hour, leading to watches and warnings in Cuba, Mexico and the United States.\n",
      "\n",
      "Florida State University said it would close Tuesday, Oct. 2018 and did not expect to resume normal operations. (The university’s football team, which plays in a stadium that seats close to 80,000 people, does have another home game on October 20th.)\n",
      "\n",
      "“Please evacuate to Leon County,” the sheriff’s office said on 10/10/2018. It will be very bad, he said — similar in some ways to Christmas Day, when most places close and lots of people could not get out of town. \n",
      "\n"
     ]
    }
   ],
   "source": [
    "from docx import Document\n",
    "from num2words import num2words\n",
    "\n",
    "document = Document('../Data/Input/input.Hw1.docx')\n",
    "fullText = []\n",
    "data = \"\"\n",
    "for para in document.paragraphs:\n",
    "    fullText.append(para.text)\n",
    "    data = '\\n'.join(fullText)\n",
    "    print(para.text)"
   ]
  },
  {
   "cell_type": "code",
   "execution_count": 2,
   "metadata": {},
   "outputs": [],
   "source": [
    "import re\n",
    "words = data.split(' ')"
   ]
  },
  {
   "cell_type": "code",
   "execution_count": 3,
   "metadata": {},
   "outputs": [
    {
     "name": "stdout",
     "output_type": "stream",
     "text": [
      "['Hurricane', 'Michael', 'May', 'Hit', 'Florida', 'as', 'Category', '3', 'Storm\\n\\n(an', 'adaptation', 'of', 'the', 'New', 'York', 'Times', 'article', 'with', 'the', 'same', 'title)\\n\\nATLANTA', '—', 'Hurricane', 'Michael', 'strengthened', 'and', 'sharpened', 'its', 'track', 'toward', 'the', 'Florida', 'Panhandle', 'on', 'Monday,', 'imperiling', 'a', 'vast', 'stretch', 'of', 'the', 'state', 'that', 'must', 'cope', 'with', 'the', 'threat', 'of', 'a', 'suddenly', 'menacing', 'storm.\\n\\nThe', 'risks', 'posed', 'by', 'the', 'hurricane', 'extended', 'hundreds', 'of', 'miles', 'inland,', 'and', 'it', 'was', 'poised', 'to', 'bombard', 'parts', 'of', 'the', 'South', 'and', 'Mid-Atlantic', 'as', 'a', 'tropical', 'storm,', 'endangering', 'regions', 'still', 'recovering', 'from', 'Hurricane', 'Florence’s', 'deluge', 'last', 'month.\\n\\nThe', 'National', 'Hurricane', 'Center', 'said', 'Michael', 'could', 'make', 'landfall', 'again', 'on', 'Wednesday,', 'Oct.', '11th', 'as', 'a', 'Category', '3', 'hurricane,', 'with', 'sustained', 'winds', 'of', 'at', 'least', '111', 'miles', 'per', 'hour.', 'If', 'the', 'forecast', 'holds,', 'Michael', 'would', 'be', 'the', 'strongest', 'hurricane', 'to', 'make', 'landfall', 'in', 'the', 'mainland', 'United', 'States', 'so', 'far.\\n\\n“Michael', 'can', 'still', 'change', 'direction', 'and', 'impact', 'any', 'part', 'of', 'the', 'state,”', 'said', 'Mr.', 'Scott,', 'who', 'warned', 'that', 'some', 'areas', 'could', 'receive', 'up', 'to', 'a', 'foot', 'of', 'rain,', 'and', 'that', 'destructive', 'winds', 'were', 'likely', 'to', 'hit', 'both', 'along', 'the', 'coast,', 'in', 'places', 'like', 'Panama', 'City,', 'and', 'inland,', 'including', 'Tallahassee,', 'the', 'capital.', 'Local', 'officials', 'ordered', 'evacuations', 'from', 'some', 'communities', 'ahead', 'of', 'the', 'storm,', 'which', 'is', 'expected', 'to', 'bring', 'tropical', 'storm-force', 'winds', 'to', 'the', 'state', 'beginning', 'as', 'soon', 'as', 'Tuesday.\\n\\nUnlike', 'Hurricane', 'Florence,', 'which', 'slowly', 'approached', 'the', 'Carolinas', 'from', 'the', 'Atlantic', 'Ocean', 'and', 'then', 'meandered', 'for', 'days,', 'Hurricane', 'Michael', 'offered', 'little', 'time', 'for', 'preparation.', 'When', 'Mr.', 'Scott', 'spoke,', 'on', 'Monday', '8a.m.,', 'the', 'system', 'was', 'a', 'tropical', 'storm,', 'though', 'one', 'forecast', 'to', 'strengthen.', 'A', 'bit', 'later,', 'the', 'hurricane', 'center', 'upgraded', 'it', 'to', 'a', 'Category', '1', 'hurricane', 'and', 'anticipated', 'a', 'Category', '3', 'strike', 'on', 'Wednesday.\\n\\nOn', 'Monday', 'afternoon,', 'the', 'hurricane', 'center', 'said', 'the', 'storm', 'was', 'about', '520', 'miles', 'south', 'of', 'Apalachicola,', 'Fla.,', 'with', 'maximum', 'sustained', 'winds', 'of', '80', 'miles', 'per', 'hour,', 'just', 'above', 'the', 'threshold', 'to', 'be', 'classified', 'as', 'a', 'hurricane.', 'The', 'storm', 'was', 'moving', 'north', 'at', 'nine', 'miles', 'per', 'hour,', 'leading', 'to', 'watches', 'and', 'warnings', 'in', 'Cuba,', 'Mexico', 'and', 'the', 'United', 'States.\\n\\nFlorida', 'State', 'University', 'said', 'it', 'would', 'close', 'Tuesday,', 'Oct.', '2018', 'and', 'did', 'not', 'expect', 'to', 'resume', 'normal', 'operations.', '(The', 'university’s', 'football', 'team,', 'which', 'plays', 'in', 'a', 'stadium', 'that', 'seats', 'close', 'to', '80,000', 'people,', 'does', 'have', 'another', 'home', 'game', 'on', 'October', '20th.)\\n\\n“Please', 'evacuate', 'to', 'Leon', 'County,”', 'the', 'sheriff’s', 'office', 'said', 'on', '10/10/2018.', 'It', 'will', 'be', 'very', 'bad,', 'he', 'said', '—', 'similar', 'in', 'some', 'ways', 'to', 'Christmas', 'Day,', 'when', 'most', 'places', 'close', 'and', 'lots', 'of', 'people', 'could', 'not', 'get', 'out', 'of', 'town.\\xa0\\n']\n"
     ]
    }
   ],
   "source": [
    "print(words)"
   ]
  },
  {
   "cell_type": "code",
   "execution_count": 4,
   "metadata": {},
   "outputs": [],
   "source": [
    "monthDict = {\n",
    "    '1': r'(?i)(?:january|jan|01)',\n",
    "    '2': r'(?i)(?:february|feb|02)',\n",
    "    '3': r'(?i)(?:march|mar|03)',\n",
    "    '4': r'(?i)(?:april|apr|04)',\n",
    "    '5': r'(?i)(?:may|05)',\n",
    "    '6': r'(?i)(?:june|jun|06)',\n",
    "    '7': r'(?i)(?:july|jul|07)',\n",
    "    '8': r'(?i)(?:august|aug|08)',\n",
    "    '9': r'(?i)(?:september|sept|09)',\n",
    "    '10': r'(?i)(?:october|oct|10)',\n",
    "    '11': r'(?i)(?:november|nov|11)',\n",
    "    '12': r'(?i)(?:december|dec|12)'\n",
    "}\n",
    "daysAr = [r'(?i)monday|mon', r'(?i)tuesday|tue', r'(?i)wednesday|wed',r'(?i)thursday|thu',r'(?i)friday|fri',r'(?i)saturday|sat',r'(?i)sunday|sun']\n",
    "daysDict = {\n",
    "    1: r'(?i)(?:monday|mon)',\n",
    "    2: r'(?i)(?:tuesday|tue)',\n",
    "    3: r'(?i)(?:wednesday|wed)',\n",
    "    4: r'(?i)(?:thursday|thu)',\n",
    "    5: r'(?i)(?:friday|fri)',\n",
    "    6: r'(?i)(?:saturday|sat)',\n",
    "    7: r'(?i)(?:sunday|sun)'\n",
    "    \n",
    "}"
   ]
  },
  {
   "cell_type": "code",
   "execution_count": null,
   "metadata": {},
   "outputs": [],
   "source": []
  },
  {
   "cell_type": "code",
   "execution_count": null,
   "metadata": {},
   "outputs": [],
   "source": []
  },
  {
   "cell_type": "code",
   "execution_count": null,
   "metadata": {},
   "outputs": [],
   "source": []
  },
  {
   "cell_type": "code",
   "execution_count": 5,
   "metadata": {},
   "outputs": [
    {
     "data": {
      "text/plain": [
       "['Oct. 11th', 'Oct. 2018 ', 'October 20th']"
      ]
     },
     "execution_count": 5,
     "metadata": {},
     "output_type": "execute_result"
    }
   ],
   "source": [
    "re.findall('(?i)(?:october|oct)\\.? [ ([0-9]+(?:th|en|rd|st)?|-]', data)"
   ]
  },
  {
   "cell_type": "code",
   "execution_count": 6,
   "metadata": {},
   "outputs": [
    {
     "data": {
      "text/plain": [
       "['Christmas Day']"
      ]
     },
     "execution_count": 6,
     "metadata": {},
     "output_type": "execute_result"
    }
   ],
   "source": [
    "re.findall('(?i)(?:New Year\\'s Day|Martin Luther King, Jr\\. Day|George Washington’s Birthday|Memorial Day|Independence Day|Labor Day|Columbus Day|Veterans Day|Thanksgiving Day|Christmas Day)',data)"
   ]
  },
  {
   "cell_type": "code",
   "execution_count": null,
   "metadata": {},
   "outputs": [],
   "source": [
    "\n"
   ]
  },
  {
   "cell_type": "code",
   "execution_count": 7,
   "metadata": {},
   "outputs": [],
   "source": [
    "mytestStr = \"\"\"\n",
    "He will arrive on January 5th, 2015.The king was born on the 25th of February.Tuesday, March 15th is my birthday.\n",
    "Daniel was born on May 13.\n",
    "Daniel was born on the 13th of May.\n",
    "On May 13, 2007, Daniel was born.\n",
    "Dateline: 04/01/1999\n",
    "We fly to Denver on Monday.\n",
    "I think it happened on Aug. 23rd, 2000.\n",
    "My birthday is the third of Oct.\n",
    "On 10/31 we dressed in costumes.\n",
    "My grandmother was born in 1935.\n",
    "Thursday, Nov. 28th, 1948 was an interesting day.\n",
    "How fortunate that the world did not end on Friday, December 21, 2012!\n",
    "We meet on March 12th, which is a Thursday.\n",
    "March the Fourteenth, 2016\n",
    "Today is the 1st of January, 2020.\n",
    "The date is January 1st, 2020.\n",
    "It is Monday, January 1st, 2020.\n",
    "Today’s date is Jan. 1st, 2020.\n",
    "It is the first day of January in 2020.\n",
    "The year 1929 brought the Great Depression.\n",
    "Monday, May 5, is my first day of work.\n",
    "January 15, 2014\n",
    "the 21st of December\n",
    "01/15/2014\n",
    "Monday\n",
    "Monday the 23rd\n",
    "Monday, 2pm\n",
    "Monday afternoon\n",
    "\"\"\"\n",
    "\n"
   ]
  },
  {
   "cell_type": "code",
   "execution_count": 8,
   "metadata": {},
   "outputs": [
    {
     "data": {
      "text/plain": [
       "[('', ''),\n",
       " ('', ''),\n",
       " ('', ''),\n",
       " ('', ''),\n",
       " ('', ''),\n",
       " ('', ''),\n",
       " ('', ''),\n",
       " ('', ''),\n",
       " ('', ''),\n",
       " ('', ''),\n",
       " ('', ''),\n",
       " ('', ''),\n",
       " ('', ''),\n",
       " ('', ''),\n",
       " ('', ''),\n",
       " ('', ''),\n",
       " ('', ''),\n",
       " ('', ''),\n",
       " ('', ''),\n",
       " ('', ''),\n",
       " ('', ''),\n",
       " ('', ''),\n",
       " ('', ''),\n",
       " ('', ''),\n",
       " ('', ''),\n",
       " ('', ''),\n",
       " ('', ''),\n",
       " ('', ''),\n",
       " ('', ''),\n",
       " ('', ''),\n",
       " ('', ''),\n",
       " ('', 'afternoon')]"
      ]
     },
     "execution_count": 8,
     "metadata": {},
     "output_type": "execute_result"
    }
   ],
   "source": [
    "re.findall('(?i)(?:(?:Monday|Tuesday|Friday|Thursday)(?:, ))?(?:(?:third|first|fourth)( day )? (?:of|in) )?(?:(?:\\d{1,2}|third|first|second)(?: )?(?:st|nd|rd|th)(?: (?:of|in) ))?(?:(?:Thursday, )?(?:January|Nov|Aug|May|March|jan|February)\\d*(?: |,|\\d|.)*?(?:\\d{4})|(?:January|Nov|Aug)\\d*(?: |,|\\d|.)*?(?:\\d{4})|Monday (afternoon|noon|evening|night|morning)|Monday the (?:\\d+)(?:rd|nd|st)|Monday, \\d+(?:pm|am)|Monday|[0-9]+[\\/-][0-9]+[\\/-][0-9]+|[0-9]+[\\/-][0-9]+|(?:May|August|January|February|March)(?: )(?:\\d{1,2})(?:th|st|nd)?|\\d{4}|(?:Thursday|Friday|saturday)|(?:December|March|April|May|Oct|October|February))', mytestStr)"
   ]
  },
  {
   "cell_type": "code",
   "execution_count": 9,
   "metadata": {},
   "outputs": [],
   "source": [
    "myregexq = re.compile('(?i)(?:(?:Monday|Tuesday|Friday|Thursday)(?:, ))?(?:(?:third|first|fourth)(?: day )? (?:of|in) )?(?:(?:\\d{1,2}|third|first|second)(?: )?(?:st|nd|rd|th)(?: (?:of|in) ))?(?:(?:Thursday, )?(?:January|Nov|Aug|May|March|jan|February)\\d*(?: |,|\\d|.)*?(?:\\d{4})|(?:January|Nov|Aug)\\d*(?: |,|\\d|.)*?(?:\\d{4})|Monday (?:afternoon|noon|evening|night|morning)|Monday the (?:\\d+)(?:rd|nd|st)|Monday, \\d+(?:pm|am)|Monday|[0-9]+[\\/-][0-9]+[\\/-][0-9]+|[0-9]+[\\/-][0-9]+|(?:May|August|January|February|March)(?: )(?:\\d{1,2})(?:th|st|nd)?|\\d{4}|(?:Thursday|Friday|saturday)|(?:December|March|April|May|Oct|October|February))')"
   ]
  },
  {
   "cell_type": "code",
   "execution_count": 10,
   "metadata": {},
   "outputs": [
    {
     "data": {
      "text/plain": [
       "['January 5th, 2015',\n",
       " '25th of February',\n",
       " 'Tuesday, March 15th',\n",
       " 'May 13',\n",
       " '13th of May',\n",
       " 'May 13, 2007',\n",
       " '04/01/1999',\n",
       " 'Monday',\n",
       " 'Aug. 23rd, 2000',\n",
       " 'third of Oct',\n",
       " '10/31',\n",
       " '1935',\n",
       " 'Thursday, Nov. 28th, 1948',\n",
       " 'Friday, December',\n",
       " '2012',\n",
       " 'March 12th',\n",
       " 'Thursday',\n",
       " 'March the Fourteenth, 2016',\n",
       " '1st of January, 2020',\n",
       " 'January 1st, 2020',\n",
       " 'Monday, January 1st, 2020',\n",
       " 'Jan. 1st, 2020',\n",
       " 'January in 2020',\n",
       " '1929',\n",
       " 'Monday, May 5',\n",
       " 'January 15, 2014',\n",
       " '21st of December',\n",
       " '01/15/2014',\n",
       " 'Monday',\n",
       " 'Monday the 23rd',\n",
       " 'Monday, 2pm',\n",
       " 'Monday afternoon']"
      ]
     },
     "execution_count": 10,
     "metadata": {},
     "output_type": "execute_result"
    }
   ],
   "source": [
    "re.findall(myregexq, mytestStr)"
   ]
  },
  {
   "cell_type": "code",
   "execution_count": 11,
   "metadata": {},
   "outputs": [],
   "source": [
    "v11 = re.compile('(?i)(?:(?:(?:Monday|Mon)|(?:Tuesday|Tue)|(?:Wednesday|Wed)|(?:Thursday|Thu)|(?:Friday|Fri)|(?:Saturday|Sat)|(?:Sunday|Sun))(?:, ))?(?:(?:first|second|third|fourth|fifth|sixth|seventh|eighth|ninth|tenth|eleventh|twelvth|thirteenth|fourteenth|fifteenth|sixteenth|seventeenth|eighteenth|nineteenth|twentieth|twentyfirst|twentysecond|twentythird|twentyfourth|twentyfifth|twentysixth|twentyseventh|twentyeigth|twentyninth|thirtieth|thirtyfirst)(?: day )? (?:of|in) )?(?:(?:\\d{1,2}|third|first|second)(?: )?(?:st|nd|rd|th)(?: (?:of|in) ))?(?:(?:(?:(?:Monday|Mon)|(?:Tuesday|Tue)|(?:Wednesday|Wed)|(?:Thursday|Thu)|(?:Friday|Fri)|(?:Saturday|Sat)|(?:Sunday|Sun))(?:,) )?(?:(?:January|Jan)|(?:February|Feb)|(?:March|Mar)|(?:April|Apr)|(?:May)|(?:June|Jun)|(?:July|Jul)|(?:August|Aug)|(?:September|Sept|Sep)|(?:October|Oct)|(?:November|Nov)|(?:December|Dec))\\d*(?: |,|\\d|.)*?(?:\\d{4})|(?:(?:January|Jan)|(?:February|Feb)|(?:March|Mar)|(?:April|Apr)|(?:May)|(?:June|Jun)|(?:July|Jul)|(?:August|Aug)|(?:September|Sept|Sep)|(?:October|Oct)|(?:November|Nov)|(?:December|Dec))\\d*(?: |,|\\d|.)*?(?:\\d{4})|(?:(?:Monday|Mon)|(?:Tuesday|Tue)|(?:Wednesday|Wed)|(?:Thursday|Thu)|(?:Friday|Fri)|(?:Saturday|Sat)|(?:Sunday|Sun)) (?:afternoon|noon|evening|night|morning)|(?:(?:Monday|Mon)|(?:Tuesday|Tue)|(?:Wednesday|Wed)|(?:Thursday|Thu)|(?:Friday|Fri)|(?:Saturday|Sat)|(?:Sunday|Sun)) the (?:\\d+)(?:rd|nd|st|th)|(?:(?:Monday|Mon)|(?:Tuesday|Tue)|(?:Wednesday|Wed)|(?:Thursday|Thu)|(?:Friday|Fri)|(?:Saturday|Sat)|(?:Sunday|Sun)), \\d+(?:pm|am|p\\.m\\.|a\\.m\\.)|(?:(?:Monday|Mon)|(?:Tuesday|Tue)|(?:Wednesday|Wed)|(?:Thursday|Thu)|(?:Friday|Fri)|(?:Saturday|Sat)|(?:Sunday|Sun))|[0-9]+[\\/-][0-9]+[\\/-][0-9]+|[0-9]+[\\/-][0-9]+|(?:(?:January|Jan)|(?:February|Feb)|(?:March|Mar)|(?:April|Apr)|(?:May)|(?:June|Jun)|(?:July|Jul)|(?:August|Aug)|(?:September|Sept|Sep)|(?:October|Oct)|(?:November|Nov)|(?:December|Dec))(?: )(?:\\d{1,2})(?:th|st|nd|rd)?|\\d{4}|(?:(?:Monday|Mon)|(?:Tuesday|Tue)|(?:Wednesday|Wed)|(?:Thursday|Thu)|(?:Friday|Fri)|(?:Saturday|Sat)|(?:Sunday|Sun))|(?:(?:January|Jan)|(?:February|Feb)|(?:March|Mar)|(?:April|Apr)|(?:May)|(?:June|Jun)|(?:July|Jul)|(?:August|Aug)|(?:September|Sept|Sep)|(?:October|Oct)|(?:November|Nov)|(?:December|Dec)))')"
   ]
  },
  {
   "cell_type": "code",
   "execution_count": 12,
   "metadata": {},
   "outputs": [
    {
     "data": {
      "text/plain": [
       "['January 5th, 2015',\n",
       " '25th of February',\n",
       " 'Tuesday, March 15th',\n",
       " 'May 13',\n",
       " '13th of May',\n",
       " 'May 13, 2007',\n",
       " '04/01/1999',\n",
       " 'Monday',\n",
       " 'Aug. 23rd, 2000',\n",
       " 'third of Oct',\n",
       " '10/31',\n",
       " '1935',\n",
       " 'Thursday, Nov. 28th, 1948',\n",
       " 'Friday, December 21, 2012',\n",
       " 'March 12th',\n",
       " 'Thursday',\n",
       " 'March the Fourteenth, 2016',\n",
       " '1st of January, 2020',\n",
       " 'January 1st, 2020',\n",
       " 'Monday, January 1st, 2020',\n",
       " 'Jan. 1st, 2020',\n",
       " 'January in 2020',\n",
       " '1929',\n",
       " 'Monday, May 5',\n",
       " 'January 15, 2014',\n",
       " '21st of December',\n",
       " '01/15/2014',\n",
       " 'Monday',\n",
       " 'Monday the 23rd',\n",
       " 'Monday, 2pm',\n",
       " 'Monday afternoon']"
      ]
     },
     "execution_count": 12,
     "metadata": {},
     "output_type": "execute_result"
    }
   ],
   "source": [
    "re.findall(v11, mytestStr)"
   ]
  },
  {
   "cell_type": "code",
   "execution_count": 13,
   "metadata": {},
   "outputs": [],
   "source": [
    "ordinals = \"(?:first|second|third|fourth|fifth|sixth|seventh|eighth|ninth|tenth|eleventh|twelvth|thirteenth|fourteenth|fifteenth|sixteenth|seventeenth|eighteenth|nineteenth|twentieth|twentyfirst|twentysecond|twentythird|twentyfourth|twentyfifth|twentysixth|twentyseventh|twentyeigth|twentyninth|thirtieth|thirtyfirst)\""
   ]
  },
  {
   "cell_type": "code",
   "execution_count": 14,
   "metadata": {},
   "outputs": [],
   "source": [
    "v12 = re.compile('(?i)(?:(?:(?:Monday|Mon)|(?:Tuesday|Tue)|(?:Wednesday|Wed)|(?:Thursday|Thu)|(?:Friday|Fri)|(?:Saturday|Sat)|(?:Sunday|Sun))(?:, ))?(?:(?:'+ordinals+')(?: day )? (?:of|in) )?(?:(?:\\d{1,2}|(?:'+ordinals+'))(?: )?(?:st|nd|rd|th)(?: (?:of|in) ))?(?:(?:(?:(?:Monday|Mon)|(?:Tuesday|Tue)|(?:Wednesday|Wed)|(?:Thursday|Thu)|(?:Friday|Fri)|(?:Saturday|Sat)|(?:Sunday|Sun))(?:,) )?(?:(?:January|Jan)|(?:February|Feb)|(?:March|Mar)|(?:April|Apr)|(?:May)|(?:June|Jun)|(?:July|Jul)|(?:August|Aug)|(?:September|Sept|Sep)|(?:October|Oct)|(?:November|Nov)|(?:December|Dec))\\d*(?: |,|\\d|.)*?(?:\\d{4})|(?:(?:January|Jan)|(?:February|Feb)|(?:March|Mar)|(?:April|Apr)|(?:May)|(?:June|Jun)|(?:July|Jul)|(?:August|Aug)|(?:September|Sept|Sep)|(?:October|Oct)|(?:November|Nov)|(?:December|Dec))\\d*(?: |,|\\d|.)*?(?:\\d{4})|(?:(?:Monday|Mon)|(?:Tuesday|Tue)|(?:Wednesday|Wed)|(?:Thursday|Thu)|(?:Friday|Fri)|(?:Saturday|Sat)|(?:Sunday|Sun)) (?:afternoon|noon|evening|night|morning)|(?:(?:Monday|Mon)|(?:Tuesday|Tue)|(?:Wednesday|Wed)|(?:Thursday|Thu)|(?:Friday|Fri)|(?:Saturday|Sat)|(?:Sunday|Sun)) the (?:\\d+)(?:rd|nd|st|th)|(?:(?:Monday|Mon)|(?:Tuesday|Tue)|(?:Wednesday|Wed)|(?:Thursday|Thu)|(?:Friday|Fri)|(?:Saturday|Sat)|(?:Sunday|Sun)), \\d+(?:pm|am|p\\.m\\.|a\\.m\\.)|(?:(?:Monday|Mon)|(?:Tuesday|Tue)|(?:Wednesday|Wed)|(?:Thursday|Thu)|(?:Friday|Fri)|(?:Saturday|Sat)|(?:Sunday|Sun))|[0-9]+[\\/-][0-9]+[\\/-][0-9]+|[0-9]+[\\/-][0-9]+|(?:(?:January|Jan)|(?:February|Feb)|(?:March|Mar)|(?:April|Apr)|(?:May)|(?:June|Jun)|(?:July|Jul)|(?:August|Aug)|(?:September|Sept|Sep)|(?:October|Oct)|(?:November|Nov)|(?:December|Dec))(?: )(?:\\d{1,2})(?:th|st|nd|rd)?|\\d{4}|(?:(?:Monday|Mon)|(?:Tuesday|Tue)|(?:Wednesday|Wed)|(?:Thursday|Thu)|(?:Friday|Fri)|(?:Saturday|Sat)|(?:Sunday|Sun))|(?:(?:January|Jan)|(?:February|Feb)|(?:March|Mar)|(?:April|Apr)|(?:May)|(?:June|Jun)|(?:July|Jul)|(?:August|Aug)|(?:September|Sept|Sep)|(?:October|Oct)|(?:November|Nov)|(?:December|Dec)))')"
   ]
  },
  {
   "cell_type": "code",
   "execution_count": 15,
   "metadata": {},
   "outputs": [
    {
     "data": {
      "text/plain": [
       "['January 5th, 2015',\n",
       " '25th of February',\n",
       " 'Tuesday, March 15th',\n",
       " 'May 13',\n",
       " '13th of May',\n",
       " 'May 13, 2007',\n",
       " '04/01/1999',\n",
       " 'Monday',\n",
       " 'Aug. 23rd, 2000',\n",
       " 'third of Oct',\n",
       " '10/31',\n",
       " '1935',\n",
       " 'Thursday, Nov. 28th, 1948',\n",
       " 'Friday, December 21, 2012',\n",
       " 'March 12th',\n",
       " 'Thursday',\n",
       " 'March the Fourteenth, 2016',\n",
       " '1st of January, 2020',\n",
       " 'January 1st, 2020',\n",
       " 'Monday, January 1st, 2020',\n",
       " 'Jan. 1st, 2020',\n",
       " 'January in 2020',\n",
       " '1929',\n",
       " 'Monday, May 5',\n",
       " 'January 15, 2014',\n",
       " '21st of December',\n",
       " '01/15/2014',\n",
       " 'Monday',\n",
       " 'Monday the 23rd',\n",
       " 'Monday, 2pm',\n",
       " 'Monday afternoon']"
      ]
     },
     "execution_count": 15,
     "metadata": {},
     "output_type": "execute_result"
    }
   ],
   "source": [
    "re.findall(v12, mytestStr)"
   ]
  },
  {
   "cell_type": "code",
   "execution_count": 16,
   "metadata": {},
   "outputs": [],
   "source": [
    "days = str(\"(?:Monday|Mon)|(?:Tuesday|Tue)|(?:Wednesday|Wed)|(?:Thursday|Thu)|(?:Friday|Fri)|(?:Saturday|Sat)|(?:Sunday|Sun)\")\n",
    "months = str(\"(?:January|Jan)|(?:February|Feb)|(?:March|Mar)|(?:April|Apr)|(?:May)|(?:June|Jun)|(?:July|Jul)|(?:August|Aug)|(?:September|Sept|Sep)|(?:October|Oct)|(?:November|Nov)|(?:December|Dec)\")"
   ]
  },
  {
   "cell_type": "code",
   "execution_count": 17,
   "metadata": {},
   "outputs": [],
   "source": [
    "v12 = re.compile('(?i)(?:(?:(?:Monday|Mon)|(?:Tuesday|Tue)|(?:Wednesday|Wed)|(?:Thursday|Thu)|(?:Friday|Fri)|(?:Saturday|Sat)|(?:Sunday|Sun))(?:, ))?(?:(?:first|second|third|fourth|fifth|sixth|seventh|eighth|ninth|tenth|eleventh|twelvth|thirteenth|fourteenth|fifteenth|sixteenth|seventeenth|eighteenth|nineteenth|twentieth|twentyfirst|twentysecond|twentythird|twentyfourth|twentyfifth|twentysixth|twentyseventh|twentyeigth|twentyninth|thirtieth|thirtyfirst)( day )? (?:of|in) )?(?:(?:\\d{1,2}|third|first|second)(?: )?(?:st|nd|rd|th)(?: (?:of|in) ))?(?:(?:(?:(?:Monday|Mon)|(?:Tuesday|Tue)|(?:Wednesday|Wed)|(?:Thursday|Thu)|(?:Friday|Fri)|(?:Saturday|Sat)|(?:Sunday|Sun))(,) )?(?:(?:January|Jan)|(?:February|Feb)|(?:March|Mar)|(?:April|Apr)|(?:May)|(?:June|Jun)|(?:July|Jul)|(?:August|Aug)|(?:September|Sept|Sep)|(?:October|Oct)|(?:November|Nov)|(?:December|Dec))\\d(?: |,|\\d|.)*?(?:\\d{4})|(?:(?:January|Jan)|(?:February|Feb)|(?:March|Mar)|(?:April|Apr)|(?:May)|(?:June|Jun)|(?:July|Jul)|(?:August|Aug)|(?:September|Sept|Sep)|(?:October|Oct)|(?:November|Nov)|(?:December|Dec))\\d(?: |,|\\d|.)*?(?:\\d{4})|(?:(?:Monday|Mon)|(?:Tuesday|Tue)|(?:Wednesday|Wed)|(?:Thursday|Thu)|(?:Friday|Fri)|(?:Saturday|Sat)|(?:Sunday|Sun)) (?:afternoon|noon|evening|night|morning)|(?:(?:Monday|Mon)|(?:Tuesday|Tue)|(?:Wednesday|Wed)|(?:Thursday|Thu)|(?:Friday|Fri)|(?:Saturday|Sat)|(?:Sunday|Sun)) the (?:\\d)(?:rd|nd|st|th)|(?:(?:Monday|Mon)|(?:Tuesday|Tue)|(?:Wednesday|Wed)|(?:Thursday|Thu)|(?:Friday|Fri)|(?:Saturday|Sat)|(?:Sunday|Sun)), \\d(?:pm|am|p\\.m\\.|a\\.m\\.)|(?:(?:Monday|Mon)|(?:Tuesday|Tue)|(?:Wednesday|Wed)|(?:Thursday|Thu)|(?:Friday|Fri)|(?:Saturday|Sat)|(?:Sunday|Sun))|[0-9][\\/-][0-9][\\/-][0-9]|[0-9][\\/-][0-9]|(?:(?:January|Jan)|(?:February|Feb)|(?:March|Mar)|(?:April|Apr)|(?:May)|(?:June|Jun)|(?:July|Jul)|(?:August|Aug)|(?:September|Sept|Sep)|(?:October|Oct)|(?:November|Nov)|(?:December|Dec))(?: )(?:\\d{1,2})(?:th|st|nd|rd)?|\\d{4}|(?:(?:Monday|Mon)|(?:Tuesday|Tue)|(?:Wednesday|Wed)|(?:Thursday|Thu)|(?:Friday|Fri)|(?:Saturday|Sat)|(?:Sunday|Sun))|(?:(?:January|Jan)|(?:February|Feb)|(?:March|Mar)|(?:April|Apr)|(?:May)|(?:June|Jun)|(?:July|Jul)|(?:August|Aug)|(?:September|Sept|Sep)|(?:October|Oct)|(?:November|Nov)|(?:December|Dec)))')"
   ]
  },
  {
   "cell_type": "code",
   "execution_count": 18,
   "metadata": {},
   "outputs": [],
   "source": [
    "v12 = re.compile('(?i)(?:(?:’+days+’)(?:, ))?(?:(?:’+ordinals+’)( day )? (?:of|in) )?(?:(?:\\d{1,2}|third|first|second)(?: )?(?:st|nd|rd|th)(?: (?:of|in) ))?(?:(?:(?:(?:'+days+'))(,) )?(?:’+months+’)\\d(?: |,|\\d|.)*?(?:\\d{4})|(?:’+months+’)\\d(?: |,|\\d|.)*?(?:\\d{4})|(?:(?:'+days+')) (?:afternoon|noon|evening|night|morning)|(?:(?:'+days+')) the (?:\\d)(?:rd|nd|st|th)|(?:(?:'+days+')), \\d(?:pm|am|p\\.m\\.|a\\.m\\.)|(?:(?:'+days+'))|[0-9][\\/-][0-9][\\/-][0-9]|[0-9][\\/-][0-9]|(?:’+months+’)(?: )(?:\\d{1,2})(?:th|st|nd|rd)?|\\d{4}|(?:(?:'+days+'))|(?:’+months+’))')"
   ]
  },
  {
   "cell_type": "code",
   "execution_count": 19,
   "metadata": {},
   "outputs": [],
   "source": [
    "v12 = re.compile('(?i)(?:(?:(?:Monday|Mon)|(?:Tuesday|Tue)|(?:Wednesday|Wed)|(?:Thursday|Thu)|(?:Friday|Fri)|(?:Saturday|Sat)|(?:Sunday|Sun))(?:, ))?(?:(?:'+ordinals+')(?: day )? (?:of|in) )?(?:(?:\\d{1,2}|(?:'+ordinals+'))(?: )?(?:st|nd|rd|th)(?: (?:of|in) ))?(?:(?:(?:(?:Monday|Mon)|(?:Tuesday|Tue)|(?:Wednesday|Wed)|(?:Thursday|Thu)|(?:Friday|Fri)|(?:Saturday|Sat)|(?:Sunday|Sun))(?:,) )?(?:(?:January|Jan)|(?:February|Feb)|(?:March|Mar)|(?:April|Apr)|(?:May)|(?:June|Jun)|(?:July|Jul)|(?:August|Aug)|(?:September|Sept|Sep)|(?:October|Oct)|(?:November|Nov)|(?:December|Dec))\\d*(?: |,|\\d|.)*?(?:\\d{4})|(?:(?:January|Jan)|(?:February|Feb)|(?:March|Mar)|(?:April|Apr)|(?:May)|(?:June|Jun)|(?:July|Jul)|(?:August|Aug)|(?:September|Sept|Sep)|(?:October|Oct)|(?:November|Nov)|(?:December|Dec))\\d*(?: |,|\\d|.)*?(?:\\d{4})|(?:(?:Monday|Mon)|(?:Tuesday|Tue)|(?:Wednesday|Wed)|(?:Thursday|Thu)|(?:Friday|Fri)|(?:Saturday|Sat)|(?:Sunday|Sun)) (?:afternoon|noon|evening|night|morning)|(?:(?:Monday|Mon)|(?:Tuesday|Tue)|(?:Wednesday|Wed)|(?:Thursday|Thu)|(?:Friday|Fri)|(?:Saturday|Sat)|(?:Sunday|Sun)) the (?:\\d+)(?:rd|nd|st|th)|(?:(?:Monday|Mon)|(?:Tuesday|Tue)|(?:Wednesday|Wed)|(?:Thursday|Thu)|(?:Friday|Fri)|(?:Saturday|Sat)|(?:Sunday|Sun)), \\d+(?:pm|am|p\\.m\\.|a\\.m\\.)|(?:(?:Monday|Mon)|(?:Tuesday|Tue)|(?:Wednesday|Wed)|(?:Thursday|Thu)|(?:Friday|Fri)|(?:Saturday|Sat)|(?:Sunday|Sun))|[0-9]+[\\/-][0-9]+[\\/-][0-9]+|[0-9]+[\\/-][0-9]+|(?:(?:January|Jan)|(?:February|Feb)|(?:March|Mar)|(?:April|Apr)|(?:May)|(?:June|Jun)|(?:July|Jul)|(?:August|Aug)|(?:September|Sept|Sep)|(?:October|Oct)|(?:November|Nov)|(?:December|Dec))(?: )(?:\\d{1,2})(?:th|st|nd|rd)?|\\d{4}|(?:(?:Monday|Mon)|(?:Tuesday|Tue)|(?:Wednesday|Wed)|(?:Thursday|Thu)|(?:Friday|Fri)|(?:Saturday|Sat)|(?:Sunday|Sun))|(?:(?:January|Jan)|(?:February|Feb)|(?:March|Mar)|(?:April|Apr)|(?:May)|(?:June|Jun)|(?:July|Jul)|(?:August|Aug)|(?:September|Sept|Sep)|(?:October|Oct)|(?:November|Nov)|(?:December|Dec)))')"
   ]
  },
  {
   "cell_type": "code",
   "execution_count": 20,
   "metadata": {},
   "outputs": [
    {
     "data": {
      "text/plain": [
       "['January 5th, 2015',\n",
       " '25th of February',\n",
       " 'Tuesday, March 15th',\n",
       " 'May 13',\n",
       " '13th of May',\n",
       " 'May 13, 2007',\n",
       " '04/01/1999',\n",
       " 'Monday',\n",
       " 'Aug. 23rd, 2000',\n",
       " 'third of Oct',\n",
       " '10/31',\n",
       " '1935',\n",
       " 'Thursday, Nov. 28th, 1948',\n",
       " 'Friday, December 21, 2012',\n",
       " 'March 12th',\n",
       " 'Thursday',\n",
       " 'March the Fourteenth, 2016',\n",
       " '1st of January, 2020',\n",
       " 'January 1st, 2020',\n",
       " 'Monday, January 1st, 2020',\n",
       " 'Jan. 1st, 2020',\n",
       " 'January in 2020',\n",
       " '1929',\n",
       " 'Monday, May 5',\n",
       " 'January 15, 2014',\n",
       " '21st of December',\n",
       " '01/15/2014',\n",
       " 'Monday',\n",
       " 'Monday the 23rd',\n",
       " 'Monday, 2pm',\n",
       " 'Monday afternoon']"
      ]
     },
     "execution_count": 20,
     "metadata": {},
     "output_type": "execute_result"
    }
   ],
   "source": [
    "re.findall(v12, mytestStr)"
   ]
  },
  {
   "cell_type": "code",
   "execution_count": 21,
   "metadata": {},
   "outputs": [],
   "source": [
    "\n",
    "#v12 = re.compile('(?i)(?:(?:(?:'+days+'))(?:, ))?(?:(?:'+ordinals+')(?: day )? (?:of|in) )?(?:(?:\\d{1,2}|(?:'+ordinals+'))(?: )?(?:st|nd|rd|th)(?: (?:of|in) ))?(?:(?:(?:(?:'+days+'))(?:,) )?(?:(?:'+months+'))\\d{1,4}(?: |,|.)(?:\\d{4})|(?:(?:'+months+'))\\d{1,4}(?: |,|\\d|.)*?(?:\\d{4})|(?:(?:'+days+')) (?:afternoon|noon|evening|night|morning)|(?:(?:'+days+')) the (?:\\d+)(?:rd|nd|st|th)|(?:(?:'+days+')), \\d+(?:pm|am|p\\.m\\.|a\\.m\\.)|(?:(?:'+days+'))|[0-9]+[\\/-][0-9]+[\\/-][0-9]+|[0-9]+[\\/-][0-9]+|(?:(?:'+months+'))(?: )(?:\\d{1,2})(?:th|st|nd|rd)?|\\d{4}|(?:(?:'+days+'))|(?:(?:'+months+')))')\n"
   ]
  },
  {
   "cell_type": "code",
   "execution_count": null,
   "metadata": {},
   "outputs": [],
   "source": []
  },
  {
   "cell_type": "raw",
   "metadata": {},
   "source": []
  },
  {
   "cell_type": "code",
   "execution_count": 22,
   "metadata": {},
   "outputs": [],
   "source": [
    "v30 = re.compile('(?i)(?:(?:\\d{1,2}|first|second|third)(?:st|nd|th)?(?: day)?(?: of | in )?)(?:january|jan|february|feb|march|april|may|june|july|august|september|october|oct|november|nov|december)(?:(?: in | of )?(?:\\d{1,4}))?|(?:monday|tuesday|wednesday|thursday|friday|saturday|sunday)(?:, )?(?:january|jan|february|feb|march|april|may|june|july|august|september|october|oct|november|nov|december)?(?:(?:.{1,4})?\\d{1,4}(?:(?: )?(?:am|a\\.m\\.|pm|p\\.m\\.))?)?(?:th|st|nd)?(?: the (?:\\d{1,2}(?:rd|st|th)?))?(?:(?: )?afternoon|noon|morning|night|evening)?(?:(?:, | of | in )?\\d*)|(?:january|jan|february|feb|march|april|may|june|july|august|aug|september|october|oct|november|december)(?:(?: the )(?:first|fourteenth))?(?:(?:.{1,2})?\\d)*(?:rd|st|th)?(?:(?:, | in | of )?(?:\\d)*)|(?:[0-9]+[\\/-][0-9]+[\\/-][0-9]+|[0-9]+[\\/-][0-9]+)|\\d{4}|(?:christmas day)')"
   ]
  },
  {
   "cell_type": "code",
   "execution_count": 23,
   "metadata": {},
   "outputs": [
    {
     "data": {
      "text/plain": [
       "['January 5th, 2015',\n",
       " '25th of February',\n",
       " 'Tuesday, March 15th',\n",
       " 'May 13',\n",
       " '13th of May',\n",
       " 'May 13, 2007, ',\n",
       " '04/01/1999',\n",
       " 'Monday',\n",
       " 'Aug. 23rd, 2000',\n",
       " 'third of Oct',\n",
       " '10/31',\n",
       " '1935',\n",
       " 'Thursday, Nov. 28th, 1948',\n",
       " 'Friday, December 21, 2012',\n",
       " 'March 12th, ',\n",
       " 'Thursday',\n",
       " 'March the Fourteenth, 2016',\n",
       " '1st of January',\n",
       " '2020',\n",
       " 'January 1st, 2020',\n",
       " 'Monday, January 1st, 2020',\n",
       " 'Jan. 1st, 2020',\n",
       " 'first day of January in 2020',\n",
       " '1929',\n",
       " 'Monday, May 5, ',\n",
       " 'January 15, 2014',\n",
       " '21st of December',\n",
       " '01/15/2014',\n",
       " 'Monday',\n",
       " 'Monday the 23rd',\n",
       " 'Monday, 2pm',\n",
       " 'Monday afternoon']"
      ]
     },
     "execution_count": 23,
     "metadata": {},
     "output_type": "execute_result"
    }
   ],
   "source": [
    "re.findall(v30, mytestStr)"
   ]
  },
  {
   "cell_type": "code",
   "execution_count": 24,
   "metadata": {},
   "outputs": [
    {
     "data": {
      "text/plain": [
       "['May',\n",
       " 'Monday, ',\n",
       " 'Wednesday, Oct. 11th',\n",
       " 'Tuesday',\n",
       " 'Monday 8a.m., ',\n",
       " 'Wednesday',\n",
       " 'Monday afternoon, ',\n",
       " 'Tuesday, Oct. 2018',\n",
       " 'October 20th',\n",
       " '10/10/2018',\n",
       " 'Christmas Day']"
      ]
     },
     "execution_count": 24,
     "metadata": {},
     "output_type": "execute_result"
    }
   ],
   "source": [
    "re.findall(v30, data)"
   ]
  },
  {
   "cell_type": "code",
   "execution_count": 25,
   "metadata": {},
   "outputs": [],
   "source": [
    "v31 = re.compile('(?i)(?:(?:\\d{1,2}|(?:'+ordinals+'))(?:st|nd|th)?(?: day)?(?: of | in )?)(?:'+months+')(?:(?: in | of )?(?:\\d{1,4}))?|(?:'+days+')(?:, )?(?:'+months+')?(?:(?:.{1,4})?\\d{1,4}(?:(?: )?(?:am|a\\.m\\.|pm|p\\.m\\.))?)?(?:th|st|nd)?(?: the (?:\\d{1,2}(?:rd|st|th)?))?(?:(?: )?afternoon|noon|morning|night|evening)?(?:(?:, | of | in )?\\d*)|(?:'+months+')(?:(?: the )(?:'+ordinals+'))?(?:(?:.{1,2})?\\d)*(?:rd|st|th)?(?:(?:, | in | of )?(?:\\d)*)|(?:[0-9]+[\\/-][0-9]+[\\/-][0-9]+|[0-9]+[\\/-][0-9]+)|\\d{4}')"
   ]
  },
  {
   "cell_type": "code",
   "execution_count": 26,
   "metadata": {},
   "outputs": [
    {
     "data": {
      "text/plain": [
       "['May',\n",
       " 'Monday, ',\n",
       " 'month',\n",
       " 'Wednesday, Oct. 11th',\n",
       " 'Tuesday',\n",
       " 'Monday 8a.m., ',\n",
       " 'Wednesday',\n",
       " 'Monday afternoon, ',\n",
       " 'Tuesday, Oct. 2018',\n",
       " 'October 20th',\n",
       " '10/10/2018']"
      ]
     },
     "execution_count": 26,
     "metadata": {},
     "output_type": "execute_result"
    }
   ],
   "source": [
    "re.findall(v31, data)"
   ]
  },
  {
   "cell_type": "code",
   "execution_count": 27,
   "metadata": {},
   "outputs": [
    {
     "data": {
      "text/plain": [
       "['January 5th, 2015',\n",
       " '25th of February',\n",
       " 'Tuesday, March 15th',\n",
       " 'May 13',\n",
       " '13th of May',\n",
       " 'May 13, 2007, ',\n",
       " '04/01/1999',\n",
       " 'Monday',\n",
       " 'Aug. 23rd, 2000',\n",
       " 'third of Oct',\n",
       " '10/31',\n",
       " '1935',\n",
       " 'Thursday, Nov. 28th, 1948',\n",
       " 'Friday, December 21, 2012',\n",
       " 'March 12th, ',\n",
       " 'Thursday',\n",
       " 'March the Fourteenth, 2016',\n",
       " '1st of January',\n",
       " '2020',\n",
       " 'January 1st, 2020',\n",
       " 'Monday, January 1st, 2020',\n",
       " 'Jan. 1st, 2020',\n",
       " 'first day of January in 2020',\n",
       " '1929',\n",
       " 'Monday, May 5, ',\n",
       " 'January 15, 2014',\n",
       " '21st of December',\n",
       " '01/15/2014',\n",
       " 'Monday',\n",
       " 'Monday the 23rd',\n",
       " 'Monday, 2pm',\n",
       " 'Monday afternoon']"
      ]
     },
     "execution_count": 27,
     "metadata": {},
     "output_type": "execute_result"
    }
   ],
   "source": [
    "re.findall(v31, mytestStr)"
   ]
  },
  {
   "cell_type": "code",
   "execution_count": 28,
   "metadata": {},
   "outputs": [
    {
     "name": "stdout",
     "output_type": "stream",
     "text": [
      "['January 5th, 2015', '25th of February', 'Tuesday, March 15th', 'May 13', '13th of May', 'May 13, 2007, ', '04/01/1999', 'Monday', 'Aug. 23rd, 2000', 'third of Oct', '10/31', '1935', 'Thursday, Nov. 28th, 1948', 'Friday, December 21, 2012', 'March 12th, ', 'Thursday', 'March the Fourteenth, 2016', '1st of January', '2020', 'January 1st, 2020', 'Monday, January 1st, 2020', 'Jan. 1st, 2020', 'first day of January in 2020', '1929', 'Monday, May 5, ', 'January 15, 2014', '21st of December', '01/15/2014', 'Monday', 'Monday the 23rd', 'Monday, 2pm', 'Monday afternoon', 'May', 'Monday, ', 'month', 'Wednesday, Oct. 11th', 'Tuesday', 'Monday 8a.m., ', 'Wednesday', 'Monday afternoon, ', 'Tuesday, Oct. 2018', 'October 20th', '10/10/2018']\n"
     ]
    }
   ],
   "source": [
    "out = re.findall(v31, mytestStr) + re.findall(v31, data)\n",
    "print(out)\n",
    "file = open('../Data/Output/output.txt', 'w')\n",
    "file.write(str(re.findall(v31, data)))\n",
    "file.write(str(re.findall('(?i)(?:New Year\\'s Day|Martin Luther King, Jr\\. Day|George Washington’s Birthday|Memorial Day|Independence Day|Labor Day|Columbus Day|Veterans Day|Thanksgiving Day|Christmas Day)',data)))\n",
    "file.close()"
   ]
  },
  {
   "cell_type": "code",
   "execution_count": null,
   "metadata": {},
   "outputs": [],
   "source": []
  }
 ],
 "metadata": {
  "kernelspec": {
   "display_name": "Python 3",
   "language": "python",
   "name": "python3"
  },
  "language_info": {
   "codemirror_mode": {
    "name": "ipython",
    "version": 3
   },
   "file_extension": ".py",
   "mimetype": "text/x-python",
   "name": "python",
   "nbconvert_exporter": "python",
   "pygments_lexer": "ipython3",
   "version": "3.9.1"
  }
 },
 "nbformat": 4,
 "nbformat_minor": 4
}
